{
  "nbformat": 4,
  "nbformat_minor": 0,
  "metadata": {
    "colab": {
      "name": "FashionMNISTTrain.ipynb",
      "provenance": [],
      "collapsed_sections": [],
      "authorship_tag": "ABX9TyPA42wu9AWGVV7Gg+slIVjl",
      "include_colab_link": true
    },
    "kernelspec": {
      "name": "python3",
      "display_name": "Python 3"
    },
    "language_info": {
      "name": "python"
    },
    "accelerator": "GPU"
  },
  "cells": [
    {
      "cell_type": "markdown",
      "metadata": {
        "id": "view-in-github",
        "colab_type": "text"
      },
      "source": [
        "<a href=\"https://colab.research.google.com/github/auzuha/python/blob/main/FashionMNISTTrain.ipynb\" target=\"_parent\"><img src=\"https://colab.research.google.com/assets/colab-badge.svg\" alt=\"Open In Colab\"/></a>"
      ]
    },
    {
      "cell_type": "code",
      "metadata": {
        "colab": {
          "base_uri": "https://localhost:8080/"
        },
        "id": "B-nl3r-_Ppk8",
        "outputId": "6dc3128e-a099-4260-f968-a2cfe014567f"
      },
      "source": [
        "import torch\n",
        "from torchvision.datasets import FashionMNIST\n",
        "from torchvision.transforms import ToTensor\n",
        "import torch.nn as nn\n",
        "import matplotlib.pyplot as plt\n",
        "from torch.utils.data import DataLoader\n",
        "\n",
        "device = torch.device('cuda' if torch.cuda.is_available() else 'cpu')\n",
        "print(device)\n",
        "#hyperparameters\n",
        "learning_rate = 0.002\n",
        "batch_size = 100\n",
        "num_epochs = 10\n",
        "num_inputs = 784\n",
        "num_hidden1 = 256\n",
        "num_classes = 10\n",
        "\n",
        "train_dataset = FashionMNIST(root=\"C:/Users/augus/python/pyTorch/imdata/\",train = True , download= True , transform=ToTensor())\n",
        "test_dataset = FashionMNIST(root=\"C:/Users/augus/python/pyTorch/imdata/\",train = False , download= True , transform=ToTensor())\n",
        "\n",
        "\n",
        "train_loader = DataLoader(train_dataset , batch_size = batch_size , shuffle=True)\n",
        "test_loader = DataLoader(test_dataset , batch_size = batch_size , shuffle=True)\n",
        "\n",
        "#model design\n",
        "class Model(nn.Module):\n",
        "    def __init__(self):\n",
        "        super(Model , self).__init__()\n",
        "        self.layer1 = nn.Linear(num_inputs , num_hidden1)\n",
        "        self.relu = nn.LeakyReLU()\n",
        "        self.layer2 = nn.Linear(num_hidden1 , num_classes)\n",
        "        self.softmax = nn.Softmax(dim=1)\n",
        "    def forward(self , x):\n",
        "        out = self.layer1(x)\n",
        "        out = self.relu(out)\n",
        "        out = self.layer2(out)\n",
        "        out = self.softmax(out)\n",
        "        return out\n",
        "model = Model()\n",
        "model = model.to(device)\n",
        "\n",
        "#loss & optim\n",
        "criterion = nn.NLLLoss()\n",
        "optim = torch.optim.Adam(model.parameters() ,learning_rate)\n",
        "\n",
        "for epoch in range(num_epochs):\n",
        "    for xb,yb in train_loader:\n",
        "        preds = model(xb.reshape(-1,784).to(device)).to(device)\n",
        "        loss = criterion(preds , yb.to(device)).to(device)\n",
        "        loss.backward()\n",
        "        optim.step()\n",
        "        optim.zero_grad()\n",
        "\n",
        "total_correct = 0\n",
        "total_labels = 0\n",
        "for xb,yb in test_loader:\n",
        "    preds = model(xb.reshape(-1,784).to(device)).to(device)\n",
        "    vals , preds = torch.max(preds , dim=1)\n",
        "    total_correct += torch.sum(preds == yb.to(device)).item()\n",
        "    total_labels += yb.numel() # returns int\n",
        "print(total_correct / total_labels)"
      ],
      "execution_count": 6,
      "outputs": [
        {
          "output_type": "stream",
          "text": [
            "cuda\n",
            "0.8556\n"
          ],
          "name": "stdout"
        }
      ]
    },
    {
      "cell_type": "code",
      "metadata": {
        "id": "WeIntBNqQBXz"
      },
      "source": [
        ""
      ],
      "execution_count": null,
      "outputs": []
    }
  ]
}